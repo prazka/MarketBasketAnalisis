{
 "cells": [
  {
   "cell_type": "code",
   "execution_count": 5,
   "metadata": {},
   "outputs": [
    {
     "name": "stderr",
     "output_type": "stream",
     "text": [
      "c:\\Users\\ACER\\anaconda3\\lib\\site-packages\\xarray\\core\\pycompat.py:22: DeprecationWarning: distutils Version classes are deprecated. Use packaging.version instead.\n",
      "  duck_array_version = LooseVersion(duck_array_module.__version__)\n",
      "c:\\Users\\ACER\\anaconda3\\lib\\site-packages\\xarray\\core\\pycompat.py:37: DeprecationWarning: distutils Version classes are deprecated. Use packaging.version instead.\n",
      "  duck_array_version = LooseVersion(\"0.0.0\")\n",
      "c:\\Users\\ACER\\anaconda3\\lib\\site-packages\\xarray\\core\\pycompat.py:37: DeprecationWarning: distutils Version classes are deprecated. Use packaging.version instead.\n",
      "  duck_array_version = LooseVersion(\"0.0.0\")\n",
      "c:\\Users\\ACER\\anaconda3\\lib\\site-packages\\setuptools\\_distutils\\version.py:351: DeprecationWarning: distutils Version classes are deprecated. Use packaging.version instead.\n",
      "  other = LooseVersion(other)\n",
      "c:\\Users\\ACER\\anaconda3\\lib\\site-packages\\setuptools\\_distutils\\version.py:351: DeprecationWarning: distutils Version classes are deprecated. Use packaging.version instead.\n",
      "  other = LooseVersion(other)\n",
      "c:\\Users\\ACER\\anaconda3\\lib\\site-packages\\xarray\\core\\npcompat.py:82: DeprecationWarning: distutils Version classes are deprecated. Use packaging.version instead.\n",
      "  if LooseVersion(np.__version__) >= \"1.20.0\":\n",
      "c:\\Users\\ACER\\anaconda3\\lib\\site-packages\\setuptools\\_distutils\\version.py:351: DeprecationWarning: distutils Version classes are deprecated. Use packaging.version instead.\n",
      "  other = LooseVersion(other)\n",
      "c:\\Users\\ACER\\anaconda3\\lib\\site-packages\\xarray\\core\\pdcompat.py:45: DeprecationWarning: distutils Version classes are deprecated. Use packaging.version instead.\n",
      "  if LooseVersion(pd.__version__) < \"0.25.0\":\n",
      "c:\\Users\\ACER\\anaconda3\\lib\\site-packages\\setuptools\\_distutils\\version.py:351: DeprecationWarning: distutils Version classes are deprecated. Use packaging.version instead.\n",
      "  other = LooseVersion(other)\n"
     ]
    }
   ],
   "source": [
    "import pandas as pd\n",
    "from mlxtend.preprocessing import TransactionEncoder as TE\n",
    "import plotly.express as px\n",
    "\n"
   ]
  },
  {
   "cell_type": "code",
   "execution_count": 6,
   "metadata": {},
   "outputs": [
    {
     "data": {
      "text/html": [
       "<div>\n",
       "<style scoped>\n",
       "    .dataframe tbody tr th:only-of-type {\n",
       "        vertical-align: middle;\n",
       "    }\n",
       "\n",
       "    .dataframe tbody tr th {\n",
       "        vertical-align: top;\n",
       "    }\n",
       "\n",
       "    .dataframe thead th {\n",
       "        text-align: right;\n",
       "    }\n",
       "</style>\n",
       "<table border=\"1\" class=\"dataframe\">\n",
       "  <thead>\n",
       "    <tr style=\"text-align: right;\">\n",
       "      <th></th>\n",
       "      <th>Member_number</th>\n",
       "      <th>Date</th>\n",
       "      <th>itemDescription</th>\n",
       "    </tr>\n",
       "  </thead>\n",
       "  <tbody>\n",
       "    <tr>\n",
       "      <th>0</th>\n",
       "      <td>1808</td>\n",
       "      <td>21-07-2015</td>\n",
       "      <td>tropical fruit</td>\n",
       "    </tr>\n",
       "    <tr>\n",
       "      <th>1</th>\n",
       "      <td>2552</td>\n",
       "      <td>05-01-2015</td>\n",
       "      <td>whole milk</td>\n",
       "    </tr>\n",
       "    <tr>\n",
       "      <th>2</th>\n",
       "      <td>2300</td>\n",
       "      <td>19-09-2015</td>\n",
       "      <td>pip fruit</td>\n",
       "    </tr>\n",
       "    <tr>\n",
       "      <th>3</th>\n",
       "      <td>1187</td>\n",
       "      <td>12-12-2015</td>\n",
       "      <td>other vegetables</td>\n",
       "    </tr>\n",
       "    <tr>\n",
       "      <th>4</th>\n",
       "      <td>3037</td>\n",
       "      <td>01-02-2015</td>\n",
       "      <td>whole milk</td>\n",
       "    </tr>\n",
       "  </tbody>\n",
       "</table>\n",
       "</div>"
      ],
      "text/plain": [
       "   Member_number        Date   itemDescription\n",
       "0           1808  21-07-2015    tropical fruit\n",
       "1           2552  05-01-2015        whole milk\n",
       "2           2300  19-09-2015         pip fruit\n",
       "3           1187  12-12-2015  other vegetables\n",
       "4           3037  01-02-2015        whole milk"
      ]
     },
     "execution_count": 6,
     "metadata": {},
     "output_type": "execute_result"
    }
   ],
   "source": [
    "#mengambil data dan membersihkan dari missing value\n",
    "missing_values = [\"n/a\", \"na\", \"--\"]\n",
    "df = pd.read_csv(\"Groceries_dataset.csv\", na_values = missing_values)\n",
    "df.head(5)"
   ]
  },
  {
   "cell_type": "code",
   "execution_count": 7,
   "metadata": {},
   "outputs": [
    {
     "data": {
      "text/html": [
       "<style type=\"text/css\">\n",
       "#T_4d843_row0_col1, #T_4d843_row0_col2 {\n",
       "  background-color: #08306b;\n",
       "  color: #f1f1f1;\n",
       "}\n",
       "#T_4d843_row1_col1 {\n",
       "  background-color: #68acd5;\n",
       "  color: #f1f1f1;\n",
       "}\n",
       "#T_4d843_row1_col2 {\n",
       "  background-color: #72b2d8;\n",
       "  color: #f1f1f1;\n",
       "}\n",
       "#T_4d843_row2_col1 {\n",
       "  background-color: #a6cee4;\n",
       "  color: #000000;\n",
       "}\n",
       "#T_4d843_row2_col2 {\n",
       "  background-color: #aed1e7;\n",
       "  color: #000000;\n",
       "}\n",
       "#T_4d843_row3_col1 {\n",
       "  background-color: #d4e4f4;\n",
       "  color: #000000;\n",
       "}\n",
       "#T_4d843_row3_col2 {\n",
       "  background-color: #d9e7f5;\n",
       "  color: #000000;\n",
       "}\n",
       "#T_4d843_row4_col1, #T_4d843_row4_col2 {\n",
       "  background-color: #f7fbff;\n",
       "  color: #000000;\n",
       "}\n",
       "</style>\n",
       "<table id=\"T_4d843\">\n",
       "  <thead>\n",
       "    <tr>\n",
       "      <th class=\"blank level0\" >&nbsp;</th>\n",
       "      <th id=\"T_4d843_level0_col0\" class=\"col_heading level0 col0\" >itemDescription</th>\n",
       "      <th id=\"T_4d843_level0_col1\" class=\"col_heading level0 col1\" >Member_number</th>\n",
       "      <th id=\"T_4d843_level0_col2\" class=\"col_heading level0 col2\" >incident_count</th>\n",
       "    </tr>\n",
       "  </thead>\n",
       "  <tbody>\n",
       "    <tr>\n",
       "      <th id=\"T_4d843_level0_row0\" class=\"row_heading level0 row0\" >0</th>\n",
       "      <td id=\"T_4d843_row0_col0\" class=\"data row0 col0\" >whole milk</td>\n",
       "      <td id=\"T_4d843_row0_col1\" class=\"data row0 col1\" >7542654</td>\n",
       "      <td id=\"T_4d843_row0_col2\" class=\"data row0 col2\" >2502</td>\n",
       "    </tr>\n",
       "    <tr>\n",
       "      <th id=\"T_4d843_level0_row1\" class=\"row_heading level0 row1\" >1</th>\n",
       "      <td id=\"T_4d843_row1_col0\" class=\"data row1 col0\" >other vegetables</td>\n",
       "      <td id=\"T_4d843_row1_col1\" class=\"data row1 col1\" >5743525</td>\n",
       "      <td id=\"T_4d843_row1_col2\" class=\"data row1 col2\" >1898</td>\n",
       "    </tr>\n",
       "    <tr>\n",
       "      <th id=\"T_4d843_level0_row2\" class=\"row_heading level0 row2\" >2</th>\n",
       "      <td id=\"T_4d843_row2_col0\" class=\"data row2 col0\" >rolls/buns</td>\n",
       "      <td id=\"T_4d843_row2_col1\" class=\"data row2 col1\" >5157630</td>\n",
       "      <td id=\"T_4d843_row2_col2\" class=\"data row2 col2\" >1716</td>\n",
       "    </tr>\n",
       "    <tr>\n",
       "      <th id=\"T_4d843_level0_row3\" class=\"row_heading level0 row3\" >3</th>\n",
       "      <td id=\"T_4d843_row3_col0\" class=\"data row3 col0\" >soda</td>\n",
       "      <td id=\"T_4d843_row3_col1\" class=\"data row3 col1\" >4531592</td>\n",
       "      <td id=\"T_4d843_row3_col2\" class=\"data row3 col2\" >1514</td>\n",
       "    </tr>\n",
       "    <tr>\n",
       "      <th id=\"T_4d843_level0_row4\" class=\"row_heading level0 row4\" >4</th>\n",
       "      <td id=\"T_4d843_row4_col0\" class=\"data row4 col0\" >yogurt</td>\n",
       "      <td id=\"T_4d843_row4_col1\" class=\"data row4 col1\" >3882446</td>\n",
       "      <td id=\"T_4d843_row4_col2\" class=\"data row4 col2\" >1334</td>\n",
       "    </tr>\n",
       "  </tbody>\n",
       "</table>\n"
      ],
      "text/plain": [
       "<pandas.io.formats.style.Styler at 0x2326d8390a0>"
      ]
     },
     "execution_count": 7,
     "metadata": {},
     "output_type": "execute_result"
    }
   ],
   "source": [
    "#menambahkan kolom baru untuk menghitung jumlah kemunculan\n",
    "df[\"incident_count\"] = 1 \n",
    "\n",
    "\n",
    "# Membuat visualisasi jumlah kemunculan\n",
    "df_table = df.groupby(['itemDescription']).sum().sort_values(\"incident_count\", ascending=False).reset_index()\n",
    "\n",
    "# Menampilkan 5 kemunculan teratas pada tabel\n",
    "df_table.head(5).style.background_gradient(cmap='Blues')\n",
    "\n"
   ]
  },
  {
   "cell_type": "code",
   "execution_count": 8,
   "metadata": {},
   "outputs": [
    {
     "name": "stderr",
     "output_type": "stream",
     "text": [
      "c:\\Users\\ACER\\anaconda3\\lib\\site-packages\\plotly\\express\\_core.py:1637: FutureWarning: The frame.append method is deprecated and will be removed from pandas in a future version. Use pandas.concat instead.\n",
      "  df_all_trees = df_all_trees.append(df_tree, ignore_index=True)\n",
      "c:\\Users\\ACER\\anaconda3\\lib\\site-packages\\plotly\\express\\_core.py:1637: FutureWarning: The frame.append method is deprecated and will be removed from pandas in a future version. Use pandas.concat instead.\n",
      "  df_all_trees = df_all_trees.append(df_tree, ignore_index=True)\n",
      "c:\\Users\\ACER\\anaconda3\\lib\\site-packages\\plotly\\io\\_renderers.py:396: DeprecationWarning:\n",
      "\n",
      "distutils Version classes are deprecated. Use packaging.version instead.\n",
      "\n",
      "c:\\Users\\ACER\\anaconda3\\lib\\site-packages\\plotly\\io\\_renderers.py:396: DeprecationWarning:\n",
      "\n",
      "distutils Version classes are deprecated. Use packaging.version instead.\n",
      "\n"
     ]
    },
    {
     "data": {
      "application/vnd.plotly.v1+json": {
       "config": {
        "plotlyServerURL": "https://plot.ly"
       },
       "data": [
        {
         "branchvalues": "total",
         "customdata": [
          [
           "UHT-milk",
           323
          ],
          [
           "beef",
           516
          ],
          [
           "berries",
           327
          ],
          [
           "beverages",
           251
          ],
          [
           "bottled beer",
           687
          ],
          [
           "bottled water",
           933
          ],
          [
           "brown bread",
           571
          ],
          [
           "butter",
           534
          ],
          [
           "butter milk",
           263
          ],
          [
           "canned beer",
           717
          ],
          [
           "chicken",
           422
          ],
          [
           "chocolate",
           357
          ],
          [
           "citrus fruit",
           812
          ],
          [
           "coffee",
           476
          ],
          [
           "cream cheese ",
           358
          ],
          [
           "curd",
           514
          ],
          [
           "dessert",
           356
          ],
          [
           "domestic eggs",
           566
          ],
          [
           "frankfurter",
           580
          ],
          [
           "frozen meals",
           252
          ],
          [
           "frozen vegetables",
           425
          ],
          [
           "fruit/vegetable juice",
           518
          ],
          [
           "ham",
           256
          ],
          [
           "hamburger meat",
           327
          ],
          [
           "ice cream",
           227
          ],
          [
           "long life bakery product",
           269
          ],
          [
           "margarine",
           491
          ],
          [
           "meat",
           254
          ],
          [
           "misc. beverages",
           238
          ],
          [
           "napkins",
           335
          ],
          [
           "newspapers",
           596
          ],
          [
           "onions",
           305
          ],
          [
           "other vegetables",
           1898
          ],
          [
           "pastry",
           785
          ],
          [
           "pip fruit",
           744
          ],
          [
           "pork",
           566
          ],
          [
           "rolls/buns",
           1716
          ],
          [
           "root vegetables",
           1071
          ],
          [
           "salty snack",
           283
          ],
          [
           "sausage",
           924
          ],
          [
           "shopping bags",
           731
          ],
          [
           "soda",
           1514
          ],
          [
           "specialty chocolate",
           240
          ],
          [
           "sugar",
           265
          ],
          [
           "tropical fruit",
           1032
          ],
          [
           "waffles",
           280
          ],
          [
           "whipped/sour cream",
           662
          ],
          [
           "white bread",
           362
          ],
          [
           "whole milk",
           2502
          ],
          [
           "yogurt",
           1334
          ],
          [
           "(?)",
           968.8675924430809
          ]
         ],
         "domain": {
          "x": [
           0,
           1
          ],
          "y": [
           0,
           1
          ]
         },
         "hovertemplate": "labels=%{label}<br>incident_count=%{value}<br>parent=%{parent}<br>id=%{id}<br>itemDescription=%{customdata[0]}<br>color=%{color}<extra></extra>",
         "ids": [
          "Top 50 items/UHT-milk",
          "Top 50 items/beef",
          "Top 50 items/berries",
          "Top 50 items/beverages",
          "Top 50 items/bottled beer",
          "Top 50 items/bottled water",
          "Top 50 items/brown bread",
          "Top 50 items/butter",
          "Top 50 items/butter milk",
          "Top 50 items/canned beer",
          "Top 50 items/chicken",
          "Top 50 items/chocolate",
          "Top 50 items/citrus fruit",
          "Top 50 items/coffee",
          "Top 50 items/cream cheese ",
          "Top 50 items/curd",
          "Top 50 items/dessert",
          "Top 50 items/domestic eggs",
          "Top 50 items/frankfurter",
          "Top 50 items/frozen meals",
          "Top 50 items/frozen vegetables",
          "Top 50 items/fruit/vegetable juice",
          "Top 50 items/ham",
          "Top 50 items/hamburger meat",
          "Top 50 items/ice cream",
          "Top 50 items/long life bakery product",
          "Top 50 items/margarine",
          "Top 50 items/meat",
          "Top 50 items/misc. beverages",
          "Top 50 items/napkins",
          "Top 50 items/newspapers",
          "Top 50 items/onions",
          "Top 50 items/other vegetables",
          "Top 50 items/pastry",
          "Top 50 items/pip fruit",
          "Top 50 items/pork",
          "Top 50 items/rolls/buns",
          "Top 50 items/root vegetables",
          "Top 50 items/salty snack",
          "Top 50 items/sausage",
          "Top 50 items/shopping bags",
          "Top 50 items/soda",
          "Top 50 items/specialty chocolate",
          "Top 50 items/sugar",
          "Top 50 items/tropical fruit",
          "Top 50 items/waffles",
          "Top 50 items/whipped/sour cream",
          "Top 50 items/white bread",
          "Top 50 items/whole milk",
          "Top 50 items/yogurt",
          "Top 50 items"
         ],
         "labels": [
          "UHT-milk",
          "beef",
          "berries",
          "beverages",
          "bottled beer",
          "bottled water",
          "brown bread",
          "butter",
          "butter milk",
          "canned beer",
          "chicken",
          "chocolate",
          "citrus fruit",
          "coffee",
          "cream cheese ",
          "curd",
          "dessert",
          "domestic eggs",
          "frankfurter",
          "frozen meals",
          "frozen vegetables",
          "fruit/vegetable juice",
          "ham",
          "hamburger meat",
          "ice cream",
          "long life bakery product",
          "margarine",
          "meat",
          "misc. beverages",
          "napkins",
          "newspapers",
          "onions",
          "other vegetables",
          "pastry",
          "pip fruit",
          "pork",
          "rolls/buns",
          "root vegetables",
          "salty snack",
          "sausage",
          "shopping bags",
          "soda",
          "specialty chocolate",
          "sugar",
          "tropical fruit",
          "waffles",
          "whipped/sour cream",
          "white bread",
          "whole milk",
          "yogurt",
          "Top 50 items"
         ],
         "marker": {
          "coloraxis": "coloraxis",
          "colors": [
           323,
           516,
           327,
           251,
           687,
           933,
           571,
           534,
           263,
           717,
           422,
           357,
           812,
           476,
           358,
           514,
           356,
           566,
           580,
           252,
           425,
           518,
           256,
           327,
           227,
           269,
           491,
           254,
           238,
           335,
           596,
           305,
           1898,
           785,
           744,
           566,
           1716,
           1071,
           283,
           924,
           731,
           1514,
           240,
           265,
           1032,
           280,
           662,
           362,
           2502,
           1334,
           968.8675924430809
          ]
         },
         "name": "",
         "parents": [
          "Top 50 items",
          "Top 50 items",
          "Top 50 items",
          "Top 50 items",
          "Top 50 items",
          "Top 50 items",
          "Top 50 items",
          "Top 50 items",
          "Top 50 items",
          "Top 50 items",
          "Top 50 items",
          "Top 50 items",
          "Top 50 items",
          "Top 50 items",
          "Top 50 items",
          "Top 50 items",
          "Top 50 items",
          "Top 50 items",
          "Top 50 items",
          "Top 50 items",
          "Top 50 items",
          "Top 50 items",
          "Top 50 items",
          "Top 50 items",
          "Top 50 items",
          "Top 50 items",
          "Top 50 items",
          "Top 50 items",
          "Top 50 items",
          "Top 50 items",
          "Top 50 items",
          "Top 50 items",
          "Top 50 items",
          "Top 50 items",
          "Top 50 items",
          "Top 50 items",
          "Top 50 items",
          "Top 50 items",
          "Top 50 items",
          "Top 50 items",
          "Top 50 items",
          "Top 50 items",
          "Top 50 items",
          "Top 50 items",
          "Top 50 items",
          "Top 50 items",
          "Top 50 items",
          "Top 50 items",
          "Top 50 items",
          "Top 50 items",
          ""
         ],
         "type": "treemap",
         "values": [
          323,
          516,
          327,
          251,
          687,
          933,
          571,
          534,
          263,
          717,
          422,
          357,
          812,
          476,
          358,
          514,
          356,
          566,
          580,
          252,
          425,
          518,
          256,
          327,
          227,
          269,
          491,
          254,
          238,
          335,
          596,
          305,
          1898,
          785,
          744,
          566,
          1716,
          1071,
          283,
          924,
          731,
          1514,
          240,
          265,
          1032,
          280,
          662,
          362,
          2502,
          1334,
          30965
         ]
        }
       ],
       "layout": {
        "coloraxis": {
         "colorbar": {
          "title": {
           "text": "color"
          }
         },
         "colorscale": [
          [
           0,
           "rgb(247,251,255)"
          ],
          [
           0.125,
           "rgb(222,235,247)"
          ],
          [
           0.25,
           "rgb(198,219,239)"
          ],
          [
           0.375,
           "rgb(158,202,225)"
          ],
          [
           0.5,
           "rgb(107,174,214)"
          ],
          [
           0.625,
           "rgb(66,146,198)"
          ],
          [
           0.75,
           "rgb(33,113,181)"
          ],
          [
           0.875,
           "rgb(8,81,156)"
          ],
          [
           1,
           "rgb(8,48,107)"
          ]
         ]
        },
        "legend": {
         "tracegroupgap": 0
        },
        "margin": {
         "t": 60
        },
        "template": {
         "data": {
          "bar": [
           {
            "error_x": {
             "color": "#2a3f5f"
            },
            "error_y": {
             "color": "#2a3f5f"
            },
            "marker": {
             "line": {
              "color": "#E5ECF6",
              "width": 0.5
             },
             "pattern": {
              "fillmode": "overlay",
              "size": 10,
              "solidity": 0.2
             }
            },
            "type": "bar"
           }
          ],
          "barpolar": [
           {
            "marker": {
             "line": {
              "color": "#E5ECF6",
              "width": 0.5
             },
             "pattern": {
              "fillmode": "overlay",
              "size": 10,
              "solidity": 0.2
             }
            },
            "type": "barpolar"
           }
          ],
          "carpet": [
           {
            "aaxis": {
             "endlinecolor": "#2a3f5f",
             "gridcolor": "white",
             "linecolor": "white",
             "minorgridcolor": "white",
             "startlinecolor": "#2a3f5f"
            },
            "baxis": {
             "endlinecolor": "#2a3f5f",
             "gridcolor": "white",
             "linecolor": "white",
             "minorgridcolor": "white",
             "startlinecolor": "#2a3f5f"
            },
            "type": "carpet"
           }
          ],
          "choropleth": [
           {
            "colorbar": {
             "outlinewidth": 0,
             "ticks": ""
            },
            "type": "choropleth"
           }
          ],
          "contour": [
           {
            "colorbar": {
             "outlinewidth": 0,
             "ticks": ""
            },
            "colorscale": [
             [
              0,
              "#0d0887"
             ],
             [
              0.1111111111111111,
              "#46039f"
             ],
             [
              0.2222222222222222,
              "#7201a8"
             ],
             [
              0.3333333333333333,
              "#9c179e"
             ],
             [
              0.4444444444444444,
              "#bd3786"
             ],
             [
              0.5555555555555556,
              "#d8576b"
             ],
             [
              0.6666666666666666,
              "#ed7953"
             ],
             [
              0.7777777777777778,
              "#fb9f3a"
             ],
             [
              0.8888888888888888,
              "#fdca26"
             ],
             [
              1,
              "#f0f921"
             ]
            ],
            "type": "contour"
           }
          ],
          "contourcarpet": [
           {
            "colorbar": {
             "outlinewidth": 0,
             "ticks": ""
            },
            "type": "contourcarpet"
           }
          ],
          "heatmap": [
           {
            "colorbar": {
             "outlinewidth": 0,
             "ticks": ""
            },
            "colorscale": [
             [
              0,
              "#0d0887"
             ],
             [
              0.1111111111111111,
              "#46039f"
             ],
             [
              0.2222222222222222,
              "#7201a8"
             ],
             [
              0.3333333333333333,
              "#9c179e"
             ],
             [
              0.4444444444444444,
              "#bd3786"
             ],
             [
              0.5555555555555556,
              "#d8576b"
             ],
             [
              0.6666666666666666,
              "#ed7953"
             ],
             [
              0.7777777777777778,
              "#fb9f3a"
             ],
             [
              0.8888888888888888,
              "#fdca26"
             ],
             [
              1,
              "#f0f921"
             ]
            ],
            "type": "heatmap"
           }
          ],
          "heatmapgl": [
           {
            "colorbar": {
             "outlinewidth": 0,
             "ticks": ""
            },
            "colorscale": [
             [
              0,
              "#0d0887"
             ],
             [
              0.1111111111111111,
              "#46039f"
             ],
             [
              0.2222222222222222,
              "#7201a8"
             ],
             [
              0.3333333333333333,
              "#9c179e"
             ],
             [
              0.4444444444444444,
              "#bd3786"
             ],
             [
              0.5555555555555556,
              "#d8576b"
             ],
             [
              0.6666666666666666,
              "#ed7953"
             ],
             [
              0.7777777777777778,
              "#fb9f3a"
             ],
             [
              0.8888888888888888,
              "#fdca26"
             ],
             [
              1,
              "#f0f921"
             ]
            ],
            "type": "heatmapgl"
           }
          ],
          "histogram": [
           {
            "marker": {
             "pattern": {
              "fillmode": "overlay",
              "size": 10,
              "solidity": 0.2
             }
            },
            "type": "histogram"
           }
          ],
          "histogram2d": [
           {
            "colorbar": {
             "outlinewidth": 0,
             "ticks": ""
            },
            "colorscale": [
             [
              0,
              "#0d0887"
             ],
             [
              0.1111111111111111,
              "#46039f"
             ],
             [
              0.2222222222222222,
              "#7201a8"
             ],
             [
              0.3333333333333333,
              "#9c179e"
             ],
             [
              0.4444444444444444,
              "#bd3786"
             ],
             [
              0.5555555555555556,
              "#d8576b"
             ],
             [
              0.6666666666666666,
              "#ed7953"
             ],
             [
              0.7777777777777778,
              "#fb9f3a"
             ],
             [
              0.8888888888888888,
              "#fdca26"
             ],
             [
              1,
              "#f0f921"
             ]
            ],
            "type": "histogram2d"
           }
          ],
          "histogram2dcontour": [
           {
            "colorbar": {
             "outlinewidth": 0,
             "ticks": ""
            },
            "colorscale": [
             [
              0,
              "#0d0887"
             ],
             [
              0.1111111111111111,
              "#46039f"
             ],
             [
              0.2222222222222222,
              "#7201a8"
             ],
             [
              0.3333333333333333,
              "#9c179e"
             ],
             [
              0.4444444444444444,
              "#bd3786"
             ],
             [
              0.5555555555555556,
              "#d8576b"
             ],
             [
              0.6666666666666666,
              "#ed7953"
             ],
             [
              0.7777777777777778,
              "#fb9f3a"
             ],
             [
              0.8888888888888888,
              "#fdca26"
             ],
             [
              1,
              "#f0f921"
             ]
            ],
            "type": "histogram2dcontour"
           }
          ],
          "mesh3d": [
           {
            "colorbar": {
             "outlinewidth": 0,
             "ticks": ""
            },
            "type": "mesh3d"
           }
          ],
          "parcoords": [
           {
            "line": {
             "colorbar": {
              "outlinewidth": 0,
              "ticks": ""
             }
            },
            "type": "parcoords"
           }
          ],
          "pie": [
           {
            "automargin": true,
            "type": "pie"
           }
          ],
          "scatter": [
           {
            "marker": {
             "colorbar": {
              "outlinewidth": 0,
              "ticks": ""
             }
            },
            "type": "scatter"
           }
          ],
          "scatter3d": [
           {
            "line": {
             "colorbar": {
              "outlinewidth": 0,
              "ticks": ""
             }
            },
            "marker": {
             "colorbar": {
              "outlinewidth": 0,
              "ticks": ""
             }
            },
            "type": "scatter3d"
           }
          ],
          "scattercarpet": [
           {
            "marker": {
             "colorbar": {
              "outlinewidth": 0,
              "ticks": ""
             }
            },
            "type": "scattercarpet"
           }
          ],
          "scattergeo": [
           {
            "marker": {
             "colorbar": {
              "outlinewidth": 0,
              "ticks": ""
             }
            },
            "type": "scattergeo"
           }
          ],
          "scattergl": [
           {
            "marker": {
             "colorbar": {
              "outlinewidth": 0,
              "ticks": ""
             }
            },
            "type": "scattergl"
           }
          ],
          "scattermapbox": [
           {
            "marker": {
             "colorbar": {
              "outlinewidth": 0,
              "ticks": ""
             }
            },
            "type": "scattermapbox"
           }
          ],
          "scatterpolar": [
           {
            "marker": {
             "colorbar": {
              "outlinewidth": 0,
              "ticks": ""
             }
            },
            "type": "scatterpolar"
           }
          ],
          "scatterpolargl": [
           {
            "marker": {
             "colorbar": {
              "outlinewidth": 0,
              "ticks": ""
             }
            },
            "type": "scatterpolargl"
           }
          ],
          "scatterternary": [
           {
            "marker": {
             "colorbar": {
              "outlinewidth": 0,
              "ticks": ""
             }
            },
            "type": "scatterternary"
           }
          ],
          "surface": [
           {
            "colorbar": {
             "outlinewidth": 0,
             "ticks": ""
            },
            "colorscale": [
             [
              0,
              "#0d0887"
             ],
             [
              0.1111111111111111,
              "#46039f"
             ],
             [
              0.2222222222222222,
              "#7201a8"
             ],
             [
              0.3333333333333333,
              "#9c179e"
             ],
             [
              0.4444444444444444,
              "#bd3786"
             ],
             [
              0.5555555555555556,
              "#d8576b"
             ],
             [
              0.6666666666666666,
              "#ed7953"
             ],
             [
              0.7777777777777778,
              "#fb9f3a"
             ],
             [
              0.8888888888888888,
              "#fdca26"
             ],
             [
              1,
              "#f0f921"
             ]
            ],
            "type": "surface"
           }
          ],
          "table": [
           {
            "cells": {
             "fill": {
              "color": "#EBF0F8"
             },
             "line": {
              "color": "white"
             }
            },
            "header": {
             "fill": {
              "color": "#C8D4E3"
             },
             "line": {
              "color": "white"
             }
            },
            "type": "table"
           }
          ]
         },
         "layout": {
          "annotationdefaults": {
           "arrowcolor": "#2a3f5f",
           "arrowhead": 0,
           "arrowwidth": 1
          },
          "autotypenumbers": "strict",
          "coloraxis": {
           "colorbar": {
            "outlinewidth": 0,
            "ticks": ""
           }
          },
          "colorscale": {
           "diverging": [
            [
             0,
             "#8e0152"
            ],
            [
             0.1,
             "#c51b7d"
            ],
            [
             0.2,
             "#de77ae"
            ],
            [
             0.3,
             "#f1b6da"
            ],
            [
             0.4,
             "#fde0ef"
            ],
            [
             0.5,
             "#f7f7f7"
            ],
            [
             0.6,
             "#e6f5d0"
            ],
            [
             0.7,
             "#b8e186"
            ],
            [
             0.8,
             "#7fbc41"
            ],
            [
             0.9,
             "#4d9221"
            ],
            [
             1,
             "#276419"
            ]
           ],
           "sequential": [
            [
             0,
             "#0d0887"
            ],
            [
             0.1111111111111111,
             "#46039f"
            ],
            [
             0.2222222222222222,
             "#7201a8"
            ],
            [
             0.3333333333333333,
             "#9c179e"
            ],
            [
             0.4444444444444444,
             "#bd3786"
            ],
            [
             0.5555555555555556,
             "#d8576b"
            ],
            [
             0.6666666666666666,
             "#ed7953"
            ],
            [
             0.7777777777777778,
             "#fb9f3a"
            ],
            [
             0.8888888888888888,
             "#fdca26"
            ],
            [
             1,
             "#f0f921"
            ]
           ],
           "sequentialminus": [
            [
             0,
             "#0d0887"
            ],
            [
             0.1111111111111111,
             "#46039f"
            ],
            [
             0.2222222222222222,
             "#7201a8"
            ],
            [
             0.3333333333333333,
             "#9c179e"
            ],
            [
             0.4444444444444444,
             "#bd3786"
            ],
            [
             0.5555555555555556,
             "#d8576b"
            ],
            [
             0.6666666666666666,
             "#ed7953"
            ],
            [
             0.7777777777777778,
             "#fb9f3a"
            ],
            [
             0.8888888888888888,
             "#fdca26"
            ],
            [
             1,
             "#f0f921"
            ]
           ]
          },
          "colorway": [
           "#636efa",
           "#EF553B",
           "#00cc96",
           "#ab63fa",
           "#FFA15A",
           "#19d3f3",
           "#FF6692",
           "#B6E880",
           "#FF97FF",
           "#FECB52"
          ],
          "font": {
           "color": "#2a3f5f"
          },
          "geo": {
           "bgcolor": "white",
           "lakecolor": "white",
           "landcolor": "#E5ECF6",
           "showlakes": true,
           "showland": true,
           "subunitcolor": "white"
          },
          "hoverlabel": {
           "align": "left"
          },
          "hovermode": "closest",
          "mapbox": {
           "style": "light"
          },
          "paper_bgcolor": "white",
          "plot_bgcolor": "#E5ECF6",
          "polar": {
           "angularaxis": {
            "gridcolor": "white",
            "linecolor": "white",
            "ticks": ""
           },
           "bgcolor": "#E5ECF6",
           "radialaxis": {
            "gridcolor": "white",
            "linecolor": "white",
            "ticks": ""
           }
          },
          "scene": {
           "xaxis": {
            "backgroundcolor": "#E5ECF6",
            "gridcolor": "white",
            "gridwidth": 2,
            "linecolor": "white",
            "showbackground": true,
            "ticks": "",
            "zerolinecolor": "white"
           },
           "yaxis": {
            "backgroundcolor": "#E5ECF6",
            "gridcolor": "white",
            "gridwidth": 2,
            "linecolor": "white",
            "showbackground": true,
            "ticks": "",
            "zerolinecolor": "white"
           },
           "zaxis": {
            "backgroundcolor": "#E5ECF6",
            "gridcolor": "white",
            "gridwidth": 2,
            "linecolor": "white",
            "showbackground": true,
            "ticks": "",
            "zerolinecolor": "white"
           }
          },
          "shapedefaults": {
           "line": {
            "color": "#2a3f5f"
           }
          },
          "ternary": {
           "aaxis": {
            "gridcolor": "white",
            "linecolor": "white",
            "ticks": ""
           },
           "baxis": {
            "gridcolor": "white",
            "linecolor": "white",
            "ticks": ""
           },
           "bgcolor": "#E5ECF6",
           "caxis": {
            "gridcolor": "white",
            "linecolor": "white",
            "ticks": ""
           }
          },
          "title": {
           "x": 0.05
          },
          "xaxis": {
           "automargin": true,
           "gridcolor": "white",
           "linecolor": "white",
           "ticks": "",
           "title": {
            "standoff": 15
           },
           "zerolinecolor": "white",
           "zerolinewidth": 2
          },
          "yaxis": {
           "automargin": true,
           "gridcolor": "white",
           "linecolor": "white",
           "ticks": "",
           "title": {
            "standoff": 15
           },
           "zerolinecolor": "white",
           "zerolinewidth": 2
          }
         }
        }
       }
      }
     },
     "metadata": {},
     "output_type": "display_data"
    }
   ],
   "source": [
    "# Menampilkan 50 data teratas\n",
    "df_table[\"all\"] = \"Top 50 items\" \n",
    "\n",
    "# membuat visualisasi dengan treemap\n",
    "fig = px.treemap(df_table.head(50), path=['all', \"itemDescription\"], values='incident_count',\n",
    "                  color=df_table[\"incident_count\"].head(50), hover_data=['itemDescription'],\n",
    "                  color_continuous_scale='Blues',\n",
    "                )\n",
    "\n",
    "fig.show()"
   ]
  },
  {
   "cell_type": "code",
   "execution_count": 95,
   "metadata": {},
   "outputs": [],
   "source": [
    "#mengelompokkan data berdasarkan id dan tanggal yang sama\n",
    "df_out = df.groupby(['Member_number','Date'])['itemDescription'].agg(list)\n"
   ]
  },
  {
   "cell_type": "code",
   "execution_count": 96,
   "metadata": {},
   "outputs": [
    {
     "data": {
      "text/html": [
       "<div>\n",
       "<style scoped>\n",
       "    .dataframe tbody tr th:only-of-type {\n",
       "        vertical-align: middle;\n",
       "    }\n",
       "\n",
       "    .dataframe tbody tr th {\n",
       "        vertical-align: top;\n",
       "    }\n",
       "\n",
       "    .dataframe thead th {\n",
       "        text-align: right;\n",
       "    }\n",
       "</style>\n",
       "<table border=\"1\" class=\"dataframe\">\n",
       "  <thead>\n",
       "    <tr style=\"text-align: right;\">\n",
       "      <th></th>\n",
       "      <th>support</th>\n",
       "      <th>itemsets</th>\n",
       "    </tr>\n",
       "  </thead>\n",
       "  <tbody>\n",
       "    <tr>\n",
       "      <th>0</th>\n",
       "      <td>0.157923</td>\n",
       "      <td>(whole milk)</td>\n",
       "    </tr>\n",
       "    <tr>\n",
       "      <th>1</th>\n",
       "      <td>0.085879</td>\n",
       "      <td>(yogurt)</td>\n",
       "    </tr>\n",
       "    <tr>\n",
       "      <th>2</th>\n",
       "      <td>0.060349</td>\n",
       "      <td>(sausage)</td>\n",
       "    </tr>\n",
       "    <tr>\n",
       "      <th>3</th>\n",
       "      <td>0.009490</td>\n",
       "      <td>(semi-finished bread)</td>\n",
       "    </tr>\n",
       "    <tr>\n",
       "      <th>4</th>\n",
       "      <td>0.051728</td>\n",
       "      <td>(pastry)</td>\n",
       "    </tr>\n",
       "    <tr>\n",
       "      <th>...</th>\n",
       "      <td>...</td>\n",
       "      <td>...</td>\n",
       "    </tr>\n",
       "    <tr>\n",
       "      <th>121</th>\n",
       "      <td>0.007151</td>\n",
       "      <td>(whole milk, bottled beer)</td>\n",
       "    </tr>\n",
       "    <tr>\n",
       "      <th>122</th>\n",
       "      <td>0.005280</td>\n",
       "      <td>(whole milk, domestic eggs)</td>\n",
       "    </tr>\n",
       "    <tr>\n",
       "      <th>123</th>\n",
       "      <td>0.005614</td>\n",
       "      <td>(whole milk, newspapers)</td>\n",
       "    </tr>\n",
       "    <tr>\n",
       "      <th>124</th>\n",
       "      <td>0.007151</td>\n",
       "      <td>(whole milk, citrus fruit)</td>\n",
       "    </tr>\n",
       "    <tr>\n",
       "      <th>125</th>\n",
       "      <td>0.005012</td>\n",
       "      <td>(whole milk, pork)</td>\n",
       "    </tr>\n",
       "  </tbody>\n",
       "</table>\n",
       "<p>126 rows × 2 columns</p>\n",
       "</div>"
      ],
      "text/plain": [
       "      support                     itemsets\n",
       "0    0.157923                 (whole milk)\n",
       "1    0.085879                     (yogurt)\n",
       "2    0.060349                    (sausage)\n",
       "3    0.009490        (semi-finished bread)\n",
       "4    0.051728                     (pastry)\n",
       "..        ...                          ...\n",
       "121  0.007151   (whole milk, bottled beer)\n",
       "122  0.005280  (whole milk, domestic eggs)\n",
       "123  0.005614     (whole milk, newspapers)\n",
       "124  0.007151   (whole milk, citrus fruit)\n",
       "125  0.005012           (whole milk, pork)\n",
       "\n",
       "[126 rows x 2 columns]"
      ]
     },
     "execution_count": 96,
     "metadata": {},
     "output_type": "execute_result"
    }
   ],
   "source": [
    "#Mengubah menjadi tabel true or false value\n",
    "te = TE()\n",
    "te_ary = te.fit(df_out).transform(df_out)\n",
    "df_out = pd.DataFrame(te_ary, columns=te.columns_)\n",
    "df_out\n",
    "\n",
    "from mlxtend.frequent_patterns import fpgrowth\n",
    "\n",
    "res=fpgrowth(df_out, min_support=0.005,use_colnames=True)\n",
    "res"
   ]
  },
  {
   "cell_type": "code",
   "execution_count": 97,
   "metadata": {},
   "outputs": [
    {
     "data": {
      "text/html": [
       "<div>\n",
       "<style scoped>\n",
       "    .dataframe tbody tr th:only-of-type {\n",
       "        vertical-align: middle;\n",
       "    }\n",
       "\n",
       "    .dataframe tbody tr th {\n",
       "        vertical-align: top;\n",
       "    }\n",
       "\n",
       "    .dataframe thead th {\n",
       "        text-align: right;\n",
       "    }\n",
       "</style>\n",
       "<table border=\"1\" class=\"dataframe\">\n",
       "  <thead>\n",
       "    <tr style=\"text-align: right;\">\n",
       "      <th></th>\n",
       "      <th>antecedents</th>\n",
       "      <th>consequents</th>\n",
       "      <th>antecedent support</th>\n",
       "      <th>consequent support</th>\n",
       "      <th>support</th>\n",
       "      <th>confidence</th>\n",
       "      <th>lift</th>\n",
       "      <th>leverage</th>\n",
       "      <th>conviction</th>\n",
       "    </tr>\n",
       "  </thead>\n",
       "  <tbody>\n",
       "    <tr>\n",
       "      <th>9</th>\n",
       "      <td>(bottled beer)</td>\n",
       "      <td>(whole milk)</td>\n",
       "      <td>0.045312</td>\n",
       "      <td>0.157923</td>\n",
       "      <td>0.007151</td>\n",
       "      <td>0.157817</td>\n",
       "      <td>0.999330</td>\n",
       "      <td>-0.000005</td>\n",
       "      <td>0.999874</td>\n",
       "    </tr>\n",
       "    <tr>\n",
       "      <th>0</th>\n",
       "      <td>(sausage)</td>\n",
       "      <td>(whole milk)</td>\n",
       "      <td>0.060349</td>\n",
       "      <td>0.157923</td>\n",
       "      <td>0.008955</td>\n",
       "      <td>0.148394</td>\n",
       "      <td>0.939663</td>\n",
       "      <td>-0.000575</td>\n",
       "      <td>0.988811</td>\n",
       "    </tr>\n",
       "    <tr>\n",
       "      <th>13</th>\n",
       "      <td>(newspapers)</td>\n",
       "      <td>(whole milk)</td>\n",
       "      <td>0.038896</td>\n",
       "      <td>0.157923</td>\n",
       "      <td>0.005614</td>\n",
       "      <td>0.144330</td>\n",
       "      <td>0.913926</td>\n",
       "      <td>-0.000529</td>\n",
       "      <td>0.984114</td>\n",
       "    </tr>\n",
       "    <tr>\n",
       "      <th>11</th>\n",
       "      <td>(domestic eggs)</td>\n",
       "      <td>(whole milk)</td>\n",
       "      <td>0.037091</td>\n",
       "      <td>0.157923</td>\n",
       "      <td>0.005280</td>\n",
       "      <td>0.142342</td>\n",
       "      <td>0.901341</td>\n",
       "      <td>-0.000578</td>\n",
       "      <td>0.981834</td>\n",
       "    </tr>\n",
       "    <tr>\n",
       "      <th>6</th>\n",
       "      <td>(frankfurter)</td>\n",
       "      <td>(other vegetables)</td>\n",
       "      <td>0.037760</td>\n",
       "      <td>0.122101</td>\n",
       "      <td>0.005146</td>\n",
       "      <td>0.136283</td>\n",
       "      <td>1.116150</td>\n",
       "      <td>0.000536</td>\n",
       "      <td>1.016420</td>\n",
       "    </tr>\n",
       "    <tr>\n",
       "      <th>5</th>\n",
       "      <td>(sausage)</td>\n",
       "      <td>(soda)</td>\n",
       "      <td>0.060349</td>\n",
       "      <td>0.097106</td>\n",
       "      <td>0.005948</td>\n",
       "      <td>0.098560</td>\n",
       "      <td>1.014975</td>\n",
       "      <td>0.000088</td>\n",
       "      <td>1.001613</td>\n",
       "    </tr>\n",
       "    <tr>\n",
       "      <th>2</th>\n",
       "      <td>(sausage)</td>\n",
       "      <td>(yogurt)</td>\n",
       "      <td>0.060349</td>\n",
       "      <td>0.085879</td>\n",
       "      <td>0.005748</td>\n",
       "      <td>0.095238</td>\n",
       "      <td>1.108986</td>\n",
       "      <td>0.000565</td>\n",
       "      <td>1.010345</td>\n",
       "    </tr>\n",
       "    <tr>\n",
       "      <th>3</th>\n",
       "      <td>(yogurt)</td>\n",
       "      <td>(sausage)</td>\n",
       "      <td>0.085879</td>\n",
       "      <td>0.060349</td>\n",
       "      <td>0.005748</td>\n",
       "      <td>0.066926</td>\n",
       "      <td>1.108986</td>\n",
       "      <td>0.000565</td>\n",
       "      <td>1.007049</td>\n",
       "    </tr>\n",
       "    <tr>\n",
       "      <th>4</th>\n",
       "      <td>(soda)</td>\n",
       "      <td>(sausage)</td>\n",
       "      <td>0.097106</td>\n",
       "      <td>0.060349</td>\n",
       "      <td>0.005948</td>\n",
       "      <td>0.061253</td>\n",
       "      <td>1.014975</td>\n",
       "      <td>0.000088</td>\n",
       "      <td>1.000963</td>\n",
       "    </tr>\n",
       "    <tr>\n",
       "      <th>1</th>\n",
       "      <td>(whole milk)</td>\n",
       "      <td>(sausage)</td>\n",
       "      <td>0.157923</td>\n",
       "      <td>0.060349</td>\n",
       "      <td>0.008955</td>\n",
       "      <td>0.056708</td>\n",
       "      <td>0.939663</td>\n",
       "      <td>-0.000575</td>\n",
       "      <td>0.996140</td>\n",
       "    </tr>\n",
       "    <tr>\n",
       "      <th>8</th>\n",
       "      <td>(whole milk)</td>\n",
       "      <td>(bottled beer)</td>\n",
       "      <td>0.157923</td>\n",
       "      <td>0.045312</td>\n",
       "      <td>0.007151</td>\n",
       "      <td>0.045281</td>\n",
       "      <td>0.999330</td>\n",
       "      <td>-0.000005</td>\n",
       "      <td>0.999968</td>\n",
       "    </tr>\n",
       "    <tr>\n",
       "      <th>7</th>\n",
       "      <td>(other vegetables)</td>\n",
       "      <td>(frankfurter)</td>\n",
       "      <td>0.122101</td>\n",
       "      <td>0.037760</td>\n",
       "      <td>0.005146</td>\n",
       "      <td>0.042146</td>\n",
       "      <td>1.116150</td>\n",
       "      <td>0.000536</td>\n",
       "      <td>1.004579</td>\n",
       "    </tr>\n",
       "    <tr>\n",
       "      <th>12</th>\n",
       "      <td>(whole milk)</td>\n",
       "      <td>(newspapers)</td>\n",
       "      <td>0.157923</td>\n",
       "      <td>0.038896</td>\n",
       "      <td>0.005614</td>\n",
       "      <td>0.035548</td>\n",
       "      <td>0.913926</td>\n",
       "      <td>-0.000529</td>\n",
       "      <td>0.996529</td>\n",
       "    </tr>\n",
       "    <tr>\n",
       "      <th>10</th>\n",
       "      <td>(whole milk)</td>\n",
       "      <td>(domestic eggs)</td>\n",
       "      <td>0.157923</td>\n",
       "      <td>0.037091</td>\n",
       "      <td>0.005280</td>\n",
       "      <td>0.033432</td>\n",
       "      <td>0.901341</td>\n",
       "      <td>-0.000578</td>\n",
       "      <td>0.996214</td>\n",
       "    </tr>\n",
       "  </tbody>\n",
       "</table>\n",
       "</div>"
      ],
      "text/plain": [
       "           antecedents         consequents  antecedent support  \\\n",
       "9       (bottled beer)        (whole milk)            0.045312   \n",
       "0            (sausage)        (whole milk)            0.060349   \n",
       "13        (newspapers)        (whole milk)            0.038896   \n",
       "11     (domestic eggs)        (whole milk)            0.037091   \n",
       "6        (frankfurter)  (other vegetables)            0.037760   \n",
       "5            (sausage)              (soda)            0.060349   \n",
       "2            (sausage)            (yogurt)            0.060349   \n",
       "3             (yogurt)           (sausage)            0.085879   \n",
       "4               (soda)           (sausage)            0.097106   \n",
       "1         (whole milk)           (sausage)            0.157923   \n",
       "8         (whole milk)      (bottled beer)            0.157923   \n",
       "7   (other vegetables)       (frankfurter)            0.122101   \n",
       "12        (whole milk)        (newspapers)            0.157923   \n",
       "10        (whole milk)     (domestic eggs)            0.157923   \n",
       "\n",
       "    consequent support   support  confidence      lift  leverage  conviction  \n",
       "9             0.157923  0.007151    0.157817  0.999330 -0.000005    0.999874  \n",
       "0             0.157923  0.008955    0.148394  0.939663 -0.000575    0.988811  \n",
       "13            0.157923  0.005614    0.144330  0.913926 -0.000529    0.984114  \n",
       "11            0.157923  0.005280    0.142342  0.901341 -0.000578    0.981834  \n",
       "6             0.122101  0.005146    0.136283  1.116150  0.000536    1.016420  \n",
       "5             0.097106  0.005948    0.098560  1.014975  0.000088    1.001613  \n",
       "2             0.085879  0.005748    0.095238  1.108986  0.000565    1.010345  \n",
       "3             0.060349  0.005748    0.066926  1.108986  0.000565    1.007049  \n",
       "4             0.060349  0.005948    0.061253  1.014975  0.000088    1.000963  \n",
       "1             0.060349  0.008955    0.056708  0.939663 -0.000575    0.996140  \n",
       "8             0.045312  0.007151    0.045281  0.999330 -0.000005    0.999968  \n",
       "7             0.037760  0.005146    0.042146  1.116150  0.000536    1.004579  \n",
       "12            0.038896  0.005614    0.035548  0.913926 -0.000529    0.996529  \n",
       "10            0.037091  0.005280    0.033432  0.901341 -0.000578    0.996214  "
      ]
     },
     "execution_count": 97,
     "metadata": {},
     "output_type": "execute_result"
    }
   ],
   "source": [
    "from mlxtend.frequent_patterns import association_rules\n",
    "\n",
    "# membuat association rules \n",
    "res=association_rules(res, metric=\"lift\", min_threshold=0.9)\n",
    "\n",
    "# meanmpilkan hasil association rules berdasarkan nilai confidencenya\n",
    "summary = res.sort_values(\"confidence\",ascending=False)\n"
   ]
  },
  {
   "cell_type": "code",
   "execution_count": 100,
   "metadata": {},
   "outputs": [
    {
     "data": {
      "image/png": "[encoded data removed]",
      "text/plain": [
       "<Figure size 720x432 with 2 Axes>"
      ]
     },
     "metadata": {
      "needs_background": "light"
     },
     "output_type": "display_data"
    }
   ],
   "source": [
    "import matplotlib.pyplot as plt\n",
    "import seaborn as sns\n",
    "\n",
    "# mengurutkan hasil  association rules berdasarkan nilai confidencenya\n",
    "res_sorted = res.sort_values(by='confidence', ascending=False)\n",
    "res_sorted = res_sorted[['antecedents', 'consequents', 'support', 'confidence', 'lift']]\n",
    "\n",
    "# membuat pivot data untuk visualisasi dengna heatmap\n",
    "heatmap_data_pivot = res_sorted.pivot(index='antecedents', columns='consequents', values='confidence')\n",
    "\n",
    "# membuat visualisasi dengan heatmap berdasarkan nilai confidencenya\n",
    "plt.figure(figsize=(10, 6))\n",
    "sns.heatmap(heatmap_data_pivot, annot=True, cmap='Blues', fmt='.2f', vmin=0.01, vmax=0.16)\n",
    "plt.title('Association Rules - Heatmap (Confidence)')\n",
    "plt.ylabel('Consequents')\n",
    "plt.xlabel('Antecedents')\n",
    "plt.show()\n"
   ]
  }
 ],
 "metadata": {
  "kernelspec": {
   "display_name": "Python 3.9.12 ('base')",
   "language": "python",
   "name": "python3"
  },
  "language_info": {
   "codemirror_mode": {
    "name": "ipython",
    "version": 3
   },
   "file_extension": ".py",
   "mimetype": "text/x-python",
   "name": "python",
   "nbconvert_exporter": "python",
   "pygments_lexer": "ipython3",
   "version": "3.9.12"
  },
  "orig_nbformat": 4,
  "vscode": {
   "interpreter": {
    "hash": "c42d99d755d00efaf066b964ceed011a4027ae5af520c8ef8190b9acee3a6094"
   }
  }
 },
 "nbformat": 4,
 "nbformat_minor": 2
}
